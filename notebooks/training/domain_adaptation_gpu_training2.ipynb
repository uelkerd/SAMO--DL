{
  "cells": [
    {
      "cell_type": "markdown",
      "metadata": {
        "colab_type": "text",
        "id": "view-in-github"
      },
      "source": [
        "<a href=\"https://colab.research.google.com/github/uelkerd/SAMO--DL/blob/main/notebooks/domain_adaptation_gpu_training2.ipynb\" target=\"_parent\"><img src=\"https://colab.research.google.com/assets/colab-badge.svg\" alt=\"Open In Colab\"/></a>"
      ]
    },
    {
      "cell_type": "markdown",
      "metadata": {
        "id": "-A1klsR924hZ"
      },
      "source": [
        "# SAMO Deep Learning - Domain Adaptation GPU Training\n",
        "\n",
        "## 🎯 REQ-DL-012: Domain-Adapted Emotion Detection\n",
        "\n",
        "**Target**: Achieve 70% F1 score on journal entries through domain adaptation from GoEmotions (Reddit comments) to personal journal writing style.\n",
        "\n",
        "### Key Objectives:\n",
        "- Bridge domain gap between Reddit comments and journal entries\n",
        "- Implement focal loss for class imbalance\n",
        "- Use domain adaptation techniques for better transfer learning\n",
        "- Optimize for GPU training on Colab"
      ]
    },
    {
      "cell_type": "markdown",
      "metadata": {
        "id": "mwDTzWp024ha"
      },
      "source": [
        "## 🚀 Environment Setup & GPU Configuration"
      ]
    },
    {
      "cell_type": "code",
      "execution_count": 1,
      "metadata": {
        "id": "2dada6dd"
      },
      "outputs": [],
      "source": [
        "import os\n",
        "os.environ['CUDA_LAUNCH_BLOCKING'] = \"1\""
      ]
    },
    {
      "cell_type": "code",
      "execution_count": null,
      "metadata": {
        "colab": {
          "base_uri": "https://localhost:8080/",
          "height": 579
        },
        "id": "3c3f62be",
        "outputId": "0e29c591-25d2-4760-fc0a-10d49e4da23c"
      },
      "outputs": [
        {
          "name": "stdout",
          "output_type": "stream",
          "text": [
            "Found existing installation: numpy 1.26.4\n",
            "Uninstalling numpy-1.26.4:\n",
            "  Successfully uninstalled numpy-1.26.4\n",
            "Collecting numpy==1.26.4\n",
            "  Using cached numpy-1.26.4-cp311-cp311-manylinux_2_17_x86_64.manylinux2014_x86_64.whl.metadata (61 kB)\n",
            "Using cached numpy-1.26.4-cp311-cp311-manylinux_2_17_x86_64.manylinux2014_x86_64.whl (18.3 MB)\n",
            "Installing collected packages: numpy\n",
            "\u001b[31mERROR: pip's dependency resolver does not currently take into account all the packages that are installed. This behaviour is the source of the following dependency conflicts.\n",
            "datasets 4.0.0 requires huggingface-hub>=0.24.0, but you have huggingface-hub 0.17.3 which is incompatible.\n",
            "opencv-python-headless 4.12.0.88 requires numpy<2.3.0,>=2; python_version >= \"3.9\", but you have numpy 1.26.4 which is incompatible.\n",
            "diffusers 0.34.0 requires huggingface-hub>=0.27.0, but you have huggingface-hub 0.17.3 which is incompatible.\n",
            "sentence-transformers 4.1.0 requires huggingface-hub>=0.20.0, but you have huggingface-hub 0.17.3 which is incompatible.\n",
            "sentence-transformers 4.1.0 requires transformers<5.0.0,>=4.41.0, but you have transformers 4.35.0 which is incompatible.\n",
            "opencv-python 4.12.0.88 requires numpy<2.3.0,>=2; python_version >= \"3.9\", but you have numpy 1.26.4 which is incompatible.\n",
            "gradio 5.38.2 requires huggingface-hub>=0.28.1, but you have huggingface-hub 0.17.3 which is incompatible.\n",
            "peft 0.16.0 requires huggingface_hub>=0.25.0, but you have huggingface-hub 0.17.3 which is incompatible.\n",
            "thinc 8.3.6 requires numpy<3.0.0,>=2.0.0, but you have numpy 1.26.4 which is incompatible.\n",
            "opencv-contrib-python 4.12.0.88 requires numpy<2.3.0,>=2; python_version >= \"3.9\", but you have numpy 1.26.4 which is incompatible.\n",
            "accelerate 1.9.0 requires huggingface_hub>=0.21.0, but you have huggingface-hub 0.17.3 which is incompatible.\u001b[0m\u001b[31m\n",
            "\u001b[0mSuccessfully installed numpy-1.26.4\n"
          ]
        },
        {
          "data": {
            "application/vnd.colab-display-data+json": {
              "id": "775b08da869d48b6aa44b95f6ef50414",
              "pip_warning": {
                "packages": [
                  "numpy"
                ]
              }
            }
          },
          "metadata": {},
          "output_type": "display_data"
        },
        {
          "name": "stdout",
          "output_type": "stream",
          "text": [
            "Looking in indexes: https://download.pytorch.org/whl/cu118\n",
            "Collecting torch==2.1.0\n",
            "  Using cached https://download.pytorch.org/whl/cu118/torch-2.1.0%2Bcu118-cp311-cp311-linux_x86_64.whl (2325.9 MB)\n",
            "^C\n"
          ]
        }
      ],
      "source": [
        "# Force reinstall compatible versions to ensure a clean environment\n",
        "!pip uninstall numpy -y\n",
        "!pip install numpy==1.26.4\n",
        "!pip install --force-reinstall torch==2.1.0 torchvision==0.16.0 torchaudio==2.1.0 --index-url https://download.pytorch.org/whl/cu118\n",
        "!pip install --force-reinstall transformers==4.35.0\n",
        "!pip install --force-reinstall requests==2.32.4 fsspec==2025.3.0\n"
      ]
    },
    {
      "cell_type": "code",
      "execution_count": 3,
      "metadata": {
        "colab": {
          "base_uri": "https://localhost:8080/"
        },
        "id": "5fYZxpNb24ha",
        "outputId": "3bc4828a-f56a-4970-d5fc-c99066aaa5b6"
      },
      "outputs": [
        {
          "name": "stderr",
          "output_type": "stream",
          "text": [
            "\n",
            "A module that was compiled using NumPy 1.x cannot be run in\n",
            "NumPy 2.0.2 as it may crash. To support both 1.x and 2.x\n",
            "versions of NumPy, modules must be compiled with NumPy 2.0.\n",
            "Some module may need to rebuild instead e.g. with 'pybind11>=2.12'.\n",
            "\n",
            "If you are a user of the module, the easiest solution will be to\n",
            "downgrade to 'numpy<2' or try to upgrade the affected module.\n",
            "We expect that some modules will need time to support NumPy 2.\n",
            "\n",
            "Traceback (most recent call last):  File \"<frozen runpy>\", line 198, in _run_module_as_main\n",
            "  File \"<frozen runpy>\", line 88, in _run_code\n",
            "  File \"/usr/local/lib/python3.11/dist-packages/colab_kernel_launcher.py\", line 37, in <module>\n",
            "    ColabKernelApp.launch_instance()\n",
            "  File \"/usr/local/lib/python3.11/dist-packages/traitlets/config/application.py\", line 992, in launch_instance\n",
            "    app.start()\n",
            "  File \"/usr/local/lib/python3.11/dist-packages/ipykernel/kernelapp.py\", line 712, in start\n",
            "    self.io_loop.start()\n",
            "  File \"/usr/local/lib/python3.11/dist-packages/tornado/platform/asyncio.py\", line 205, in start\n",
            "    self.asyncio_loop.run_forever()\n",
            "  File \"/usr/lib/python3.11/asyncio/base_events.py\", line 608, in run_forever\n",
            "    self._run_once()\n",
            "  File \"/usr/lib/python3.11/asyncio/base_events.py\", line 1936, in _run_once\n",
            "    handle._run()\n",
            "  File \"/usr/lib/python3.11/asyncio/events.py\", line 84, in _run\n",
            "    self._context.run(self._callback, *self._args)\n",
            "  File \"/usr/local/lib/python3.11/dist-packages/ipykernel/kernelbase.py\", line 510, in dispatch_queue\n",
            "    await self.process_one()\n",
            "  File \"/usr/local/lib/python3.11/dist-packages/ipykernel/kernelbase.py\", line 499, in process_one\n",
            "    await dispatch(*args)\n",
            "  File \"/usr/local/lib/python3.11/dist-packages/ipykernel/kernelbase.py\", line 406, in dispatch_shell\n",
            "    await result\n",
            "  File \"/usr/local/lib/python3.11/dist-packages/ipykernel/kernelbase.py\", line 730, in execute_request\n",
            "    reply_content = await reply_content\n",
            "  File \"/usr/local/lib/python3.11/dist-packages/ipykernel/ipkernel.py\", line 383, in do_execute\n",
            "    res = shell.run_cell(\n",
            "  File \"/usr/local/lib/python3.11/dist-packages/ipykernel/zmqshell.py\", line 528, in run_cell\n",
            "    return super().run_cell(*args, **kwargs)\n",
            "  File \"/usr/local/lib/python3.11/dist-packages/IPython/core/interactiveshell.py\", line 2975, in run_cell\n",
            "    result = self._run_cell(\n",
            "  File \"/usr/local/lib/python3.11/dist-packages/IPython/core/interactiveshell.py\", line 3030, in _run_cell\n",
            "    return runner(coro)\n",
            "  File \"/usr/local/lib/python3.11/dist-packages/IPython/core/async_helpers.py\", line 78, in _pseudo_sync_runner\n",
            "    coro.send(None)\n",
            "  File \"/usr/local/lib/python3.11/dist-packages/IPython/core/interactiveshell.py\", line 3257, in run_cell_async\n",
            "    has_raised = await self.run_ast_nodes(code_ast.body, cell_name,\n",
            "  File \"/usr/local/lib/python3.11/dist-packages/IPython/core/interactiveshell.py\", line 3473, in run_ast_nodes\n",
            "    if (await self.run_code(code, result,  async_=asy)):\n",
            "  File \"/usr/local/lib/python3.11/dist-packages/IPython/core/interactiveshell.py\", line 3553, in run_code\n",
            "    exec(code_obj, self.user_global_ns, self.user_ns)\n",
            "  File \"/tmp/ipython-input-3023728975.py\", line 2, in <cell line: 0>\n",
            "    import torch\n",
            "  File \"/usr/local/lib/python3.11/dist-packages/torch/__init__.py\", line 1382, in <module>\n",
            "    from .functional import *  # noqa: F403\n",
            "  File \"/usr/local/lib/python3.11/dist-packages/torch/functional.py\", line 7, in <module>\n",
            "    import torch.nn.functional as F\n",
            "  File \"/usr/local/lib/python3.11/dist-packages/torch/nn/__init__.py\", line 1, in <module>\n",
            "    from .modules import *  # noqa: F403\n",
            "  File \"/usr/local/lib/python3.11/dist-packages/torch/nn/modules/__init__.py\", line 35, in <module>\n",
            "    from .transformer import TransformerEncoder, TransformerDecoder, \\\n",
            "  File \"/usr/local/lib/python3.11/dist-packages/torch/nn/modules/transformer.py\", line 20, in <module>\n",
            "    device: torch.device = torch.device(torch._C._get_default_device()),  # torch.device('cpu'),\n",
            "/usr/local/lib/python3.11/dist-packages/torch/nn/modules/transformer.py:20: UserWarning: Failed to initialize NumPy: _ARRAY_API not found (Triggered internally at ../torch/csrc/utils/tensor_numpy.cpp:84.)\n",
            "  device: torch.device = torch.device(torch._C._get_default_device()),  # torch.device('cpu'),\n"
          ]
        },
        {
          "name": "stdout",
          "output_type": "stream",
          "text": [
            "CUDA Available: True\n",
            "GPU: Tesla T4\n",
            "Memory: 15.8 GB\n"
          ]
        }
      ],
      "source": [
        "# Verify GPU availability\n",
        "import torch\n",
        "import gc\n",
        "\n",
        "print(f\"CUDA Available: {torch.cuda.is_available()}\")\n",
        "if torch.cuda.is_available():\n",
        "    print(f\"GPU: {torch.cuda.get_device_name(0)}\")\n",
        "    print(f\"Memory: {torch.cuda.get_device_properties(0).total_memory / 1e9:.1f} GB\")\n",
        "\n",
        "else:\n",
        "    print(\"⚠️ No GPU available. Training will be slow on CPU.\")\n",
        "\n",
        "# Enable cudnn benchmarking for faster training\n",
        "torch.backends.cudnn.benchmark = True"
      ]
    },
    {
      "cell_type": "markdown",
      "metadata": {
        "id": "zXmPBLK524ha"
      },
      "source": [
        "## 📦 Install Dependencies"
      ]
    },
    {
      "cell_type": "code",
      "execution_count": 4,
      "metadata": {
        "colab": {
          "base_uri": "https://localhost:8080/"
        },
        "collapsed": true,
        "id": "arIQO8Oy24ha",
        "outputId": "696ed694-bb68-4eeb-fa64-61cba0342831"
      },
      "outputs": [
        {
          "name": "stdout",
          "output_type": "stream",
          "text": [
            "\u001b[31mERROR: pip's dependency resolver does not currently take into account all the packages that are installed. This behaviour is the source of the following dependency conflicts.\n",
            "diffusers 0.34.0 requires huggingface-hub>=0.27.0, but you have huggingface-hub 0.17.3 which is incompatible.\n",
            "sentence-transformers 4.1.0 requires huggingface-hub>=0.20.0, but you have huggingface-hub 0.17.3 which is incompatible.\n",
            "sentence-transformers 4.1.0 requires transformers<5.0.0,>=4.41.0, but you have transformers 4.35.0 which is incompatible.\n",
            "gradio-client 1.11.0 requires huggingface-hub>=0.19.3, but you have huggingface-hub 0.17.3 which is incompatible.\n",
            "gradio 5.38.2 requires huggingface-hub>=0.28.1, but you have huggingface-hub 0.17.3 which is incompatible.\n",
            "peft 0.16.0 requires huggingface_hub>=0.25.0, but you have huggingface-hub 0.17.3 which is incompatible.\n",
            "accelerate 1.9.0 requires huggingface_hub>=0.21.0, but you have huggingface-hub 0.17.3 which is incompatible.\u001b[0m\u001b[31m\n",
            "\u001b[0mRequirement already satisfied: accelerate in /usr/local/lib/python3.11/dist-packages (1.9.0)\n",
            "Requirement already satisfied: wandb in /usr/local/lib/python3.11/dist-packages (0.21.0)\n",
            "Requirement already satisfied: pydub in /usr/local/lib/python3.11/dist-packages (0.25.1)\n",
            "Requirement already satisfied: openai-whisper in /usr/local/lib/python3.11/dist-packages (20250625)\n",
            "Requirement already satisfied: jiwer in /usr/local/lib/python3.11/dist-packages (4.0.0)\n",
            "Requirement already satisfied: numpy<3.0.0,>=1.17 in /usr/local/lib/python3.11/dist-packages (from accelerate) (2.0.2)\n",
            "Requirement already satisfied: packaging>=20.0 in /usr/local/lib/python3.11/dist-packages (from accelerate) (25.0)\n",
            "Requirement already satisfied: psutil in /usr/local/lib/python3.11/dist-packages (from accelerate) (5.9.5)\n",
            "Requirement already satisfied: pyyaml in /usr/local/lib/python3.11/dist-packages (from accelerate) (6.0.2)\n",
            "Requirement already satisfied: torch>=2.0.0 in /usr/local/lib/python3.11/dist-packages (from accelerate) (2.1.0+cu118)\n",
            "Collecting huggingface_hub>=0.21.0 (from accelerate)\n",
            "  Using cached huggingface_hub-0.34.3-py3-none-any.whl.metadata (14 kB)\n",
            "Requirement already satisfied: safetensors>=0.4.3 in /usr/local/lib/python3.11/dist-packages (from accelerate) (0.5.3)\n",
            "Requirement already satisfied: click!=8.0.0,>=7.1 in /usr/local/lib/python3.11/dist-packages (from wandb) (8.2.1)\n",
            "Requirement already satisfied: gitpython!=3.1.29,>=1.0.0 in /usr/local/lib/python3.11/dist-packages (from wandb) (3.1.45)\n",
            "Requirement already satisfied: platformdirs in /usr/local/lib/python3.11/dist-packages (from wandb) (4.3.8)\n",
            "Requirement already satisfied: protobuf!=4.21.0,!=5.28.0,<7,>=3.19.0 in /usr/local/lib/python3.11/dist-packages (from wandb) (5.29.5)\n",
            "Requirement already satisfied: pydantic<3 in /usr/local/lib/python3.11/dist-packages (from wandb) (2.11.7)\n",
            "Requirement already satisfied: requests<3,>=2.0.0 in /usr/local/lib/python3.11/dist-packages (from wandb) (2.32.4)\n",
            "Requirement already satisfied: sentry-sdk>=2.0.0 in /usr/local/lib/python3.11/dist-packages (from wandb) (2.34.0)\n",
            "Requirement already satisfied: typing-extensions<5,>=4.8 in /usr/local/lib/python3.11/dist-packages (from wandb) (4.14.1)\n",
            "Requirement already satisfied: more-itertools in /usr/local/lib/python3.11/dist-packages (from openai-whisper) (10.7.0)\n",
            "Requirement already satisfied: numba in /usr/local/lib/python3.11/dist-packages (from openai-whisper) (0.60.0)\n",
            "Requirement already satisfied: tiktoken in /usr/local/lib/python3.11/dist-packages (from openai-whisper) (0.9.0)\n",
            "Requirement already satisfied: tqdm in /usr/local/lib/python3.11/dist-packages (from openai-whisper) (4.67.1)\n",
            "Requirement already satisfied: triton>=2 in /usr/local/lib/python3.11/dist-packages (from openai-whisper) (2.1.0)\n",
            "Requirement already satisfied: rapidfuzz>=3.9.7 in /usr/local/lib/python3.11/dist-packages (from jiwer) (3.13.0)\n",
            "Requirement already satisfied: gitdb<5,>=4.0.1 in /usr/local/lib/python3.11/dist-packages (from gitpython!=3.1.29,>=1.0.0->wandb) (4.0.12)\n",
            "Requirement already satisfied: filelock in /usr/local/lib/python3.11/dist-packages (from huggingface_hub>=0.21.0->accelerate) (3.18.0)\n",
            "Requirement already satisfied: fsspec>=2023.5.0 in /usr/local/lib/python3.11/dist-packages (from huggingface_hub>=0.21.0->accelerate) (2023.10.0)\n",
            "Requirement already satisfied: hf-xet<2.0.0,>=1.1.3 in /usr/local/lib/python3.11/dist-packages (from huggingface_hub>=0.21.0->accelerate) (1.1.5)\n",
            "Requirement already satisfied: annotated-types>=0.6.0 in /usr/local/lib/python3.11/dist-packages (from pydantic<3->wandb) (0.7.0)\n",
            "Requirement already satisfied: pydantic-core==2.33.2 in /usr/local/lib/python3.11/dist-packages (from pydantic<3->wandb) (2.33.2)\n",
            "Requirement already satisfied: typing-inspection>=0.4.0 in /usr/local/lib/python3.11/dist-packages (from pydantic<3->wandb) (0.4.1)\n",
            "Requirement already satisfied: charset_normalizer<4,>=2 in /usr/local/lib/python3.11/dist-packages (from requests<3,>=2.0.0->wandb) (3.4.2)\n",
            "Requirement already satisfied: idna<4,>=2.5 in /usr/local/lib/python3.11/dist-packages (from requests<3,>=2.0.0->wandb) (3.10)\n",
            "Requirement already satisfied: urllib3<3,>=1.21.1 in /usr/local/lib/python3.11/dist-packages (from requests<3,>=2.0.0->wandb) (2.5.0)\n",
            "Requirement already satisfied: certifi>=2017.4.17 in /usr/local/lib/python3.11/dist-packages (from requests<3,>=2.0.0->wandb) (2025.7.14)\n",
            "Requirement already satisfied: sympy in /usr/local/lib/python3.11/dist-packages (from torch>=2.0.0->accelerate) (1.13.3)\n",
            "Requirement already satisfied: networkx in /usr/local/lib/python3.11/dist-packages (from torch>=2.0.0->accelerate) (3.3)\n",
            "Requirement already satisfied: jinja2 in /usr/local/lib/python3.11/dist-packages (from torch>=2.0.0->accelerate) (3.1.4)\n",
            "Requirement already satisfied: llvmlite<0.44,>=0.43.0dev0 in /usr/local/lib/python3.11/dist-packages (from numba->openai-whisper) (0.43.0)\n",
            "Requirement already satisfied: regex>=2022.1.18 in /usr/local/lib/python3.11/dist-packages (from tiktoken->openai-whisper) (2025.7.34)\n",
            "Requirement already satisfied: smmap<6,>=3.0.1 in /usr/local/lib/python3.11/dist-packages (from gitdb<5,>=4.0.1->gitpython!=3.1.29,>=1.0.0->wandb) (5.0.2)\n",
            "Requirement already satisfied: MarkupSafe>=2.0 in /usr/local/lib/python3.11/dist-packages (from jinja2->torch>=2.0.0->accelerate) (2.1.5)\n",
            "Requirement already satisfied: mpmath<1.4,>=1.1.0 in /usr/local/lib/python3.11/dist-packages (from sympy->torch>=2.0.0->accelerate) (1.3.0)\n",
            "Using cached huggingface_hub-0.34.3-py3-none-any.whl (558 kB)\n",
            "Installing collected packages: huggingface_hub\n",
            "  Attempting uninstall: huggingface_hub\n",
            "    Found existing installation: huggingface-hub 0.17.3\n",
            "    Uninstalling huggingface-hub-0.17.3:\n",
            "      Successfully uninstalled huggingface-hub-0.17.3\n",
            "\u001b[31mERROR: pip's dependency resolver does not currently take into account all the packages that are installed. This behaviour is the source of the following dependency conflicts.\n",
            "tokenizers 0.14.1 requires huggingface_hub<0.18,>=0.16.4, but you have huggingface-hub 0.34.3 which is incompatible.\n",
            "sentence-transformers 4.1.0 requires transformers<5.0.0,>=4.41.0, but you have transformers 4.35.0 which is incompatible.\u001b[0m\u001b[31m\n",
            "\u001b[0mSuccessfully installed huggingface_hub-0.34.3\n",
            "/content/SAMO--DL\n",
            "From https://github.com/uelkerd/SAMO--DL\n",
            " * branch            main       -> FETCH_HEAD\n",
            "Already up to date.\n",
            "/content/SAMO--DL\n"
          ]
        }
      ],
      "source": [
        "# Install required packages\n",
        "!pip install torch>=2.1.0 torchvision>=0.16.0 torchaudio>=2.1.0 --index-url https://download.pytorch.org/whl/cu118\n",
        "!pip install transformers>=4.30.0 datasets>=2.13.0 evaluate scikit-learn pandas numpy matplotlib seaborn\n",
        "!pip install accelerate wandb pydub openai-whisper jiwer\n",
        "\n",
        "\n",
        "%cd SAMO--DL\n",
        "!git pull origin main\n",
        "!pwd"
      ]
    },
    {
      "cell_type": "markdown",
      "metadata": {
        "id": "HxMRbAyX24ha"
      },
      "source": [
        "\n",
        "\n",
        "```\n",
        "# This is formatted as code\n",
        "```\n",
        "\n",
        "## 🔍 Domain Gap Analysis"
      ]
    },
    {
      "cell_type": "code",
      "execution_count": 5,
      "metadata": {
        "colab": {
          "base_uri": "https://localhost:8080/",
          "height": 700
        },
        "id": "kt1882fN24ha",
        "outputId": "23cceb51-7227-4590-f399-17496964d127"
      },
      "outputs": [
        {
          "name": "stdout",
          "output_type": "stream",
          "text": [
            "📊 Loading datasets...\n",
            "\n",
            "🔍 Domain Gap Analysis:\n",
            "GoEmotions (Reddit) Style Analysis:\n",
            "  Average length: 12.4 words\n",
            "  Personal pronouns: 40.3%\n",
            "  Reflection words: 5.2%\n",
            "Journal Entries Style Analysis:\n",
            "  Average length: 39.3 words\n",
            "  Personal pronouns: 100.0%\n",
            "  Reflection words: 76.7%\n"
          ]
        },
        {
          "data": {
            "image/png": "[encoded data removed]",
            "text/plain": [
              "<Figure size 1500x500 with 3 Axes>"
            ]
          },
          "metadata": {},
          "output_type": "display_data"
        },
        {
          "name": "stdout",
          "output_type": "stream",
          "text": [
            "\n",
            "🎯 Key Insights:\n",
            "- Journal entries are 3.2x longer\n",
            "- Journal entries use 2.5x more personal pronouns\n",
            "- Journal entries contain 14.7x more reflection words\n"
          ]
        }
      ],
      "source": [
        "import json\n",
        "import pandas as pd\n",
        "import numpy as np\n",
        "from datasets import load_dataset\n",
        "import matplotlib.pyplot as plt\n",
        "import seaborn as sns\n",
        "\n",
        "def analyze_writing_style(texts, domain_name):\n",
        "    \"\"\"Analyze writing style characteristics of a domain.\"\"\"\n",
        "    avg_length = np.mean([len(text.split()) for text in texts])\n",
        "    personal_pronouns = sum(['I ' in text or 'my ' in text or 'me ' in text for text in texts]) / len(texts)\n",
        "    reflection_words = sum(['think' in text.lower() or 'feel' in text.lower() or 'believe' in text.lower()\n",
        "                           for text in texts]) / len(texts)\n",
        "\n",
        "    print(f\"{domain_name} Style Analysis:\")\n",
        "    print(f\"  Average length: {avg_length:.1f} words\")\n",
        "    print(f\"  Personal pronouns: {personal_pronouns:.1%}\")\n",
        "    print(f\"  Reflection words: {reflection_words:.1%}\")\n",
        "\n",
        "    return {\n",
        "        'avg_length': avg_length,\n",
        "        'personal_pronouns': personal_pronouns,\n",
        "        'reflection_words': reflection_words\n",
        "    }\n",
        "\n",
        "# Load datasets\n",
        "print(\"📊 Loading datasets...\")\n",
        "\n",
        "# Load GoEmotions dataset\n",
        "go_emotions = load_dataset(\"go_emotions\", \"simplified\")\n",
        "go_texts = go_emotions['train']['text'][:1000]  # Sample for analysis\n",
        "\n",
        "# Load journal dataset\n",
        "with open('data/journal_test_dataset.json', 'r') as f:\n",
        "    journal_entries = json.load(f)\n",
        "\n",
        "journal_df = pd.DataFrame(journal_entries)\n",
        "journal_texts = journal_df['content'].tolist()\n",
        "\n",
        "# Analyze domains\n",
        "print(\"\\n🔍 Domain Gap Analysis:\")\n",
        "go_analysis = analyze_writing_style(go_texts, \"GoEmotions (Reddit)\")\n",
        "journal_analysis = analyze_writing_style(journal_texts, \"Journal Entries\")\n",
        "\n",
        "# Visualize differences\n",
        "fig, axes = plt.subplots(1, 3, figsize=(15, 5))\n",
        "\n",
        "metrics = ['avg_length', 'personal_pronouns', 'reflection_words']\n",
        "labels = ['Avg Length (words)', 'Personal Pronouns', 'Reflection Words']\n",
        "\n",
        "for i, (metric, label) in enumerate(zip(metrics, labels)):\n",
        "    axes[i].bar(['GoEmotions', 'Journal'],\n",
        "                [go_analysis[metric], journal_analysis[metric]])\n",
        "    axes[i].set_title(label)\n",
        "    axes[i].set_ylabel('Percentage' if 'pronouns' in metric or 'reflection' in metric else 'Count')\n",
        "\n",
        "plt.tight_layout()\n",
        "plt.show()\n",
        "\n",
        "print(\"\\n🎯 Key Insights:\")\n",
        "print(f\"- Journal entries are {journal_analysis['avg_length']/go_analysis['avg_length']:.1f}x longer\")\n",
        "print(f\"- Journal entries use {journal_analysis['personal_pronouns']/go_analysis['personal_pronouns']:.1f}x more personal pronouns\")\n",
        "print(f\"- Journal entries contain {journal_analysis['reflection_words']/go_analysis['reflection_words']:.1f}x more reflection words\")"
      ]
    },
    {
      "cell_type": "markdown",
      "metadata": {
        "id": "Fa4RoFII24ha"
      },
      "source": [
        "## 🏗️ Model Architecture"
      ]
    },
    {
      "cell_type": "code",
      "execution_count": 6,
      "metadata": {
        "id": "ySgAwqr524ha"
      },
      "outputs": [],
      "source": [
        "import torch\n",
        "import torch.nn as nn\n",
        "import torch.nn.functional as F\n",
        "from transformers import AutoModel, AutoTokenizer\n",
        "\n",
        "class FocalLoss(nn.Module):\n",
        "    \"\"\"Focal Loss for addressing class imbalance in emotion detection.\"\"\"\n",
        "\n",
        "    def __init__(self, alpha=1, gamma=2, reduction='mean'):\n",
        "        super(FocalLoss, self).__init__()\n",
        "        self.alpha = alpha\n",
        "        self.gamma = gamma\n",
        "        self.reduction = reduction\n",
        "\n",
        "    def forward(self, inputs, targets):\n",
        "        ce_loss = F.cross_entropy(inputs, targets, reduction='none')\n",
        "        pt = torch.exp(-ce_loss)\n",
        "        focal_loss = self.alpha * (1 - pt) ** self.gamma * ce_loss\n",
        "\n",
        "        if self.reduction == 'mean':\n",
        "            return focal_loss.mean()\n",
        "        elif self.reduction == 'sum':\n",
        "            return focal_loss.sum()\n",
        "        else:\n",
        "            return focal_loss\n",
        "\n",
        "class DomainAdaptedEmotionClassifier(nn.Module):\n",
        "    \"\"\"BERT-based emotion classifier with domain adaptation capabilities.\"\"\"\n",
        "\n",
        "    def __init__(self, model_name=\"bert-base-uncased\", num_labels=12, dropout=0.3):\n",
        "        super().__init__()\n",
        "        print(f\"Initializing DomainAdaptedEmotionClassifier with num_labels = {num_labels}\")\n",
        "        self.bert = AutoModel.from_pretrained(model_name)\n",
        "        self.dropout = nn.Dropout(dropout)\n",
        "        self.classifier = nn.Linear(self.bert.config.hidden_size, num_labels)\n",
        "\n",
        "    def forward(self, input_ids, attention_mask):\n",
        "        outputs = self.bert(input_ids=input_ids, attention_mask=attention_mask)\n",
        "        pooled_output = outputs.pooler_output\n",
        "\n",
        "        # Emotion classification\n",
        "        emotion_logits = self.classifier(self.dropout(pooled_output))\n",
        "\n",
        "        return emotion_logits"
      ]
    },
    {
      "cell_type": "code",
      "execution_count": 10,
      "metadata": {
        "colab": {
          "base_uri": "https://localhost:8080/",
          "height": 228
        },
        "id": "223c52f7",
        "outputId": "655f5cb7-56a6-48c8-8e43-d59ac66f71b8"
      },
      "outputs": [
        {
          "name": "stdout",
          "output_type": "stream",
          "text": [
            "🏗️ Initializing model...\n"
          ]
        },
        {
          "ename": "NameError",
          "evalue": "name 'label_encoder' is not defined",
          "output_type": "error",
          "traceback": [
            "\u001b[0;31m---------------------------------------------------------------------------\u001b[0m",
            "\u001b[0;31mNameError\u001b[0m                                 Traceback (most recent call last)",
            "\u001b[0;32m/tmp/ipython-input-1875660754.py\u001b[0m in \u001b[0;36m<cell line: 0>\u001b[0;34m()\u001b[0m\n\u001b[1;32m     47\u001b[0m \u001b[0mmodel_name\u001b[0m \u001b[0;34m=\u001b[0m \u001b[0;34m\"bert-base-uncased\"\u001b[0m\u001b[0;34m\u001b[0m\u001b[0;34m\u001b[0m\u001b[0m\n\u001b[1;32m     48\u001b[0m \u001b[0mtokenizer\u001b[0m \u001b[0;34m=\u001b[0m \u001b[0mAutoTokenizer\u001b[0m\u001b[0;34m.\u001b[0m\u001b[0mfrom_pretrained\u001b[0m\u001b[0;34m(\u001b[0m\u001b[0mmodel_name\u001b[0m\u001b[0;34m)\u001b[0m\u001b[0;34m\u001b[0m\u001b[0;34m\u001b[0m\u001b[0m\n\u001b[0;32m---> 49\u001b[0;31m \u001b[0mmodel\u001b[0m \u001b[0;34m=\u001b[0m \u001b[0mDomainAdaptedEmotionClassifier\u001b[0m\u001b[0;34m(\u001b[0m\u001b[0mmodel_name\u001b[0m\u001b[0;34m=\u001b[0m\u001b[0mmodel_name\u001b[0m\u001b[0;34m,\u001b[0m \u001b[0mnum_labels\u001b[0m\u001b[0;34m=\u001b[0m\u001b[0mlen\u001b[0m\u001b[0;34m(\u001b[0m\u001b[0mlabel_encoder\u001b[0m\u001b[0;34m.\u001b[0m\u001b[0mclasses_\u001b[0m\u001b[0;34m)\u001b[0m\u001b[0;34m)\u001b[0m\u001b[0;34m\u001b[0m\u001b[0;34m\u001b[0m\u001b[0m\n\u001b[0m\u001b[1;32m     50\u001b[0m \u001b[0;34m\u001b[0m\u001b[0m\n\u001b[1;32m     51\u001b[0m \u001b[0mdevice\u001b[0m \u001b[0;34m=\u001b[0m \u001b[0mtorch\u001b[0m\u001b[0;34m.\u001b[0m\u001b[0mdevice\u001b[0m\u001b[0;34m(\u001b[0m\u001b[0;34m\"cuda\"\u001b[0m \u001b[0;32mif\u001b[0m \u001b[0mtorch\u001b[0m\u001b[0;34m.\u001b[0m\u001b[0mcuda\u001b[0m\u001b[0;34m.\u001b[0m\u001b[0mis_available\u001b[0m\u001b[0;34m(\u001b[0m\u001b[0;34m)\u001b[0m \u001b[0;32melse\u001b[0m \u001b[0;34m\"cpu\"\u001b[0m\u001b[0;34m)\u001b[0m\u001b[0;34m\u001b[0m\u001b[0;34m\u001b[0m\u001b[0m\n",
            "\u001b[0;31mNameError\u001b[0m: name 'label_encoder' is not defined"
          ]
        }
      ],
      "source": [
        "import torch\n",
        "import torch.nn as nn\n",
        "import torch.nn.functional as F\n",
        "from transformers import AutoModel, AutoTokenizer\n",
        "\n",
        "class FocalLoss(nn.Module):\n",
        "    \"\"\"Focal Loss for addressing class imbalance in emotion detection.\"\"\"\n",
        "\n",
        "    def __init__(self, alpha=1, gamma=2, reduction='mean'):\n",
        "        super(FocalLoss, self).__init__()\n",
        "        self.alpha = alpha\n",
        "        self.gamma = gamma\n",
        "        self.reduction = reduction\n",
        "\n",
        "    def forward(self, inputs, targets):\n",
        "        ce_loss = F.cross_entropy(inputs, targets, reduction='none')\n",
        "        pt = torch.exp(-ce_loss)\n",
        "        focal_loss = self.alpha * (1 - pt) ** self.gamma * ce_loss\n",
        "\n",
        "        if self.reduction == 'mean':\n",
        "            return focal_loss.mean()\n",
        "        elif self.reduction == 'sum':\n",
        "            return focal_loss.sum()\n",
        "        else:\n",
        "            return focal_loss\n",
        "\n",
        "class DomainAdaptedEmotionClassifier(nn.Module):\n",
        "    \"\"\"BERT-based emotion classifier with domain adaptation capabilities.\"\"\"\n",
        "\n",
        "    def __init__(self, model_name=\"bert-base-uncased\", num_labels=12, dropout=0.3):\n",
        "        super().__init__()\n",
        "        print(f\"Initializing DomainAdaptedEmotionClassifier with num_labels = {num_labels}\")\n",
        "        self.bert = AutoModel.from_pretrained(model_name)\n",
        "        self.dropout = nn.Dropout(dropout)\n",
        "        self.classifier = nn.Linear(self.bert.config.hidden_size, num_labels)\n",
        "\n",
        "    def forward(self, input_ids, attention_mask):\n",
        "        outputs = self.bert(input_ids=input_ids, attention_mask=attention_mask)\n",
        "        pooled_output = outputs.pooler_output\n",
        "\n",
        "        # Emotion classification\n",
        "        emotion_logits = self.classifier(self.dropout(pooled_output))\n",
        "\n",
        "        return emotion_logits\n",
        "# Initialize model and tokenizer\n",
        "print(\"🏗️ Initializing model...\")\n",
        "model_name = \"bert-base-uncased\"\n",
        "tokenizer = AutoTokenizer.from_pretrained(model_name)\n",
        "model = DomainAdaptedEmotionClassifier(model_name=model_name, num_labels=len(label_encoder.classes_))\n",
        "\n",
        "device = torch.device(\"cuda\" if torch.cuda.is_available() else \"cpu\")\n",
        "model = model.to(device)\n",
        "\n",
        "print(f\"✅ Model loaded on {device}\")\n",
        "print(f\"📊 Model parameters: {sum(p.numel() for p in model.parameters()):,}\")"
      ]
    },
    {
      "cell_type": "code",
      "execution_count": 9,
      "metadata": {
        "colab": {
          "base_uri": "https://localhost:8080/",
          "height": 228
        },
        "id": "9e1f2350",
        "outputId": "5212666c-c163-49a9-fb35-cdddf4471857"
      },
      "outputs": [
        {
          "name": "stdout",
          "output_type": "stream",
          "text": [
            "🏗️ Initializing model...\n"
          ]
        },
        {
          "ename": "NameError",
          "evalue": "name 'label_encoder' is not defined",
          "output_type": "error",
          "traceback": [
            "\u001b[0;31m---------------------------------------------------------------------------\u001b[0m",
            "\u001b[0;31mNameError\u001b[0m                                 Traceback (most recent call last)",
            "\u001b[0;32m/tmp/ipython-input-1021039676.py\u001b[0m in \u001b[0;36m<cell line: 0>\u001b[0;34m()\u001b[0m\n\u001b[1;32m      3\u001b[0m \u001b[0mmodel_name\u001b[0m \u001b[0;34m=\u001b[0m \u001b[0;34m\"bert-base-uncased\"\u001b[0m\u001b[0;34m\u001b[0m\u001b[0;34m\u001b[0m\u001b[0m\n\u001b[1;32m      4\u001b[0m \u001b[0mtokenizer\u001b[0m \u001b[0;34m=\u001b[0m \u001b[0mAutoTokenizer\u001b[0m\u001b[0;34m.\u001b[0m\u001b[0mfrom_pretrained\u001b[0m\u001b[0;34m(\u001b[0m\u001b[0mmodel_name\u001b[0m\u001b[0;34m)\u001b[0m\u001b[0;34m\u001b[0m\u001b[0;34m\u001b[0m\u001b[0m\n\u001b[0;32m----> 5\u001b[0;31m \u001b[0mmodel\u001b[0m \u001b[0;34m=\u001b[0m \u001b[0mDomainAdaptedEmotionClassifier\u001b[0m\u001b[0;34m(\u001b[0m\u001b[0mmodel_name\u001b[0m\u001b[0;34m=\u001b[0m\u001b[0mmodel_name\u001b[0m\u001b[0;34m,\u001b[0m \u001b[0mnum_labels\u001b[0m\u001b[0;34m=\u001b[0m\u001b[0mlen\u001b[0m\u001b[0;34m(\u001b[0m\u001b[0mlabel_encoder\u001b[0m\u001b[0;34m.\u001b[0m\u001b[0mclasses_\u001b[0m\u001b[0;34m)\u001b[0m\u001b[0;34m)\u001b[0m\u001b[0;34m\u001b[0m\u001b[0;34m\u001b[0m\u001b[0m\n\u001b[0m\u001b[1;32m      6\u001b[0m \u001b[0;34m\u001b[0m\u001b[0m\n\u001b[1;32m      7\u001b[0m \u001b[0mdevice\u001b[0m \u001b[0;34m=\u001b[0m \u001b[0mtorch\u001b[0m\u001b[0;34m.\u001b[0m\u001b[0mdevice\u001b[0m\u001b[0;34m(\u001b[0m\u001b[0;34m\"cuda\"\u001b[0m \u001b[0;32mif\u001b[0m \u001b[0mtorch\u001b[0m\u001b[0;34m.\u001b[0m\u001b[0mcuda\u001b[0m\u001b[0;34m.\u001b[0m\u001b[0mis_available\u001b[0m\u001b[0;34m(\u001b[0m\u001b[0;34m)\u001b[0m \u001b[0;32melse\u001b[0m \u001b[0;34m\"cpu\"\u001b[0m\u001b[0;34m)\u001b[0m\u001b[0;34m\u001b[0m\u001b[0;34m\u001b[0m\u001b[0m\n",
            "\u001b[0;31mNameError\u001b[0m: name 'label_encoder' is not defined"
          ]
        }
      ],
      "source": [
        "# Initialize model and tokenizer\n",
        "print(\"🏗️ Initializing model...\")\n",
        "model_name = \"bert-base-uncased\"\n",
        "tokenizer = AutoTokenizer.from_pretrained(model_name)\n",
        "model = DomainAdaptedEmotionClassifier(model_name=model_name, num_labels=len(label_encoder.classes_))\n",
        "\n",
        "device = torch.device(\"cuda\" if torch.cuda.is_available() else \"cpu\")\n",
        "model = model.to(device)\n",
        "\n",
        "print(f\"✅ Model loaded on {device}\")\n",
        "print(f\"📊 Model parameters: {sum(p.numel() for p in model.parameters()):,}\")"
      ]
    },
    {
      "cell_type": "code",
      "execution_count": 8,
      "metadata": {
        "colab": {
          "base_uri": "https://localhost:8080/",
          "height": 228
        },
        "id": "1a5ecdb4",
        "outputId": "6ae974d6-73ab-42d6-bcee-368e5c5f9d77"
      },
      "outputs": [
        {
          "name": "stdout",
          "output_type": "stream",
          "text": [
            "🔍 Debug: Label Analysis\n"
          ]
        },
        {
          "ename": "NameError",
          "evalue": "name 'label_encoder' is not defined",
          "output_type": "error",
          "traceback": [
            "\u001b[0;31m---------------------------------------------------------------------------\u001b[0m",
            "\u001b[0;31mNameError\u001b[0m                                 Traceback (most recent call last)",
            "\u001b[0;32m/tmp/ipython-input-3031607729.py\u001b[0m in \u001b[0;36m<cell line: 0>\u001b[0;34m()\u001b[0m\n\u001b[1;32m      1\u001b[0m \u001b[0;31m# Debug: Check label ranges\u001b[0m\u001b[0;34m\u001b[0m\u001b[0;34m\u001b[0m\u001b[0m\n\u001b[1;32m      2\u001b[0m \u001b[0mprint\u001b[0m\u001b[0;34m(\u001b[0m\u001b[0;34m\"🔍 Debug: Label Analysis\"\u001b[0m\u001b[0;34m)\u001b[0m\u001b[0;34m\u001b[0m\u001b[0;34m\u001b[0m\u001b[0m\n\u001b[0;32m----> 3\u001b[0;31m \u001b[0mprint\u001b[0m\u001b[0;34m(\u001b[0m\u001b[0;34mf\"Label encoder classes: {len(label_encoder.classes_)}\"\u001b[0m\u001b[0;34m)\u001b[0m\u001b[0;34m\u001b[0m\u001b[0;34m\u001b[0m\u001b[0m\n\u001b[0m\u001b[1;32m      4\u001b[0m \u001b[0mprint\u001b[0m\u001b[0;34m(\u001b[0m\u001b[0;34mf\"Model num_labels: {model.classifier.out_features}\"\u001b[0m\u001b[0;34m)\u001b[0m\u001b[0;34m\u001b[0m\u001b[0;34m\u001b[0m\u001b[0m\n\u001b[1;32m      5\u001b[0m \u001b[0mprint\u001b[0m\u001b[0;34m(\u001b[0m\u001b[0;34mf\"GoEmotions label range: {go_encoded_labels.min()} to {go_encoded_labels.max()}\"\u001b[0m\u001b[0;34m)\u001b[0m\u001b[0;34m\u001b[0m\u001b[0;34m\u001b[0m\u001b[0m\n",
            "\u001b[0;31mNameError\u001b[0m: name 'label_encoder' is not defined"
          ]
        }
      ],
      "source": [
        "# Debug: Check label ranges\n",
        "print(\"🔍 Debug: Label Analysis\")\n",
        "print(f\"Label encoder classes: {len(label_encoder.classes_)}\")\n",
        "print(f\"Model num_labels: {model.classifier.out_features}\")\n",
        "print(f\"GoEmotions label range: {go_encoded_labels.min()} to {go_encoded_labels.max()}\")\n",
        "print(f\"Journal label range: {journal_encoded_labels.min()} to {journal_encoded_labels.max()}\")\n",
        "\n",
        "# Check for any labels >= model output size\n",
        "max_label = max(go_encoded_labels.max(), journal_encoded_labels.max())\n",
        "if max_label >= model.classifier.out_features:\n",
        "    print(f\"❌ ERROR: Max label {max_label} >= model output size {model.classifier.out_features}\")\n",
        "else:\n",
        "    print(f\"✅ Labels are within valid range (0 to {model.classifier.out_features - 1})\")"
      ]
    },
    {
      "cell_type": "markdown",
      "metadata": {
        "id": "GMs0Tkbz24hb"
      },
      "source": [
        "## 📊 Data Preparation"
      ]
    },
    {
      "cell_type": "code",
      "execution_count": 11,
      "metadata": {
        "colab": {
          "base_uri": "https://localhost:8080/"
        },
        "id": "eWpVZcSc24hb",
        "outputId": "0bb3a41f-372a-420f-cbaa-7fa8698699fb"
      },
      "outputs": [
        {
          "name": "stdout",
          "output_type": "stream",
          "text": [
            "📊 Preparing GoEmotions data...\n",
            "📊 Preparing journal data...\n",
            "🧬 Creating a unified label encoder...\n",
            "✅ Data prepared:\n",
            "  GoEmotions: 10000 samples\n",
            "  Journal Train: 120 samples\n",
            "  Journal Val: 30 samples\n",
            "  Total classes: 40\n"
          ]
        },
        {
          "name": "stderr",
          "output_type": "stream",
          "text": [
            "/usr/local/lib/python3.11/dist-packages/huggingface_hub/file_download.py:945: FutureWarning: `resume_download` is deprecated and will be removed in version 1.0.0. Downloads always resume when possible. If you want to force a new download, use `force_download=True`.\n",
            "  warnings.warn(\n"
          ]
        }
      ],
      "source": [
        "from torch.utils.data import Dataset, DataLoader, ConcatDataset\n",
        "from sklearn.model_selection import train_test_split\n",
        "from sklearn.preprocessing import LabelEncoder\n",
        "from transformers import AutoTokenizer\n",
        "\n",
        "class EmotionDataset(Dataset):\n",
        "    \"\"\"Custom dataset for emotion classification.\"\"\"\n",
        "\n",
        "    def __init__(self, texts, labels, tokenizer, max_length=128):\n",
        "        self.texts = texts\n",
        "        self.labels = labels\n",
        "        self.tokenizer = tokenizer\n",
        "        self.max_length = max_length\n",
        "\n",
        "    def __len__(self):\n",
        "        return len(self.texts)\n",
        "\n",
        "    def __getitem__(self, idx):\n",
        "        try:\n",
        "            text = str(self.texts[idx])\n",
        "            label = self.labels[idx]\n",
        "\n",
        "            encoding = self.tokenizer(\n",
        "                text,\n",
        "                truncation=True,\n",
        "                padding='max_length',\n",
        "                max_length=self.max_length,\n",
        "                return_tensors='pt'\n",
        "            )\n",
        "\n",
        "            return {\n",
        "                'input_ids': encoding['input_ids'].flatten(),\n",
        "                'attention_mask': encoding['attention_mask'].flatten(),\n",
        "                'labels': torch.tensor(label, dtype=torch.long)\n",
        "            }\n",
        "        except Exception as e:\n",
        "            print(f\"Error processing text at index {idx}: {text}\")\n",
        "            raise e\n",
        "\n",
        "# Prepare GoEmotions data\n",
        "print(\"📊 Preparing GoEmotions data...\")\n",
        "go_train = go_emotions['train']\n",
        "go_texts = go_train['text'][:10000]  # Use subset for faster training\n",
        "go_labels = go_train['labels'][:10000]\n",
        "\n",
        "# Get the label names from the go_emotions dataset features\n",
        "go_label_names = go_train.features['labels'].feature.names\n",
        "\n",
        "# Convert multi-label to single-label and map to string names\n",
        "go_single_labels_int = [label[0] if label else 0 for label in go_labels]\n",
        "go_single_labels_str = [go_label_names[i] for i in go_single_labels_int]\n",
        "\n",
        "# Prepare journal data\n",
        "print(\"📊 Preparing journal data...\")\n",
        "journal_texts = journal_df['content'].tolist()\n",
        "journal_emotions = journal_df['emotion'].tolist()\n",
        "\n",
        "# Create a unified label encoder from all string labels\n",
        "print(\"🧬 Creating a unified label encoder...\")\n",
        "label_encoder = LabelEncoder()\n",
        "all_emotions = list(set(go_single_labels_str) | set(journal_emotions))\n",
        "label_encoder.fit(all_emotions)\n",
        "\n",
        "# Encode all labels using the unified encoder\n",
        "go_encoded_labels = label_encoder.transform(go_single_labels_str)\n",
        "journal_encoded_labels = label_encoder.transform(journal_emotions)\n",
        "\n",
        "# Split journal data\n",
        "journal_train_texts, journal_val_texts, journal_train_labels, journal_val_labels = train_test_split(\n",
        "    journal_texts, journal_encoded_labels, test_size=0.2, random_state=42, stratify=journal_encoded_labels\n",
        ")\n",
        "\n",
        "# Create datasets\n",
        "tokenizer = AutoTokenizer.from_pretrained('bert-base-uncased')\n",
        "go_dataset = EmotionDataset(go_texts, go_encoded_labels, tokenizer)\n",
        "journal_train_dataset = EmotionDataset(journal_train_texts, journal_train_labels, tokenizer)\n",
        "journal_val_dataset = EmotionDataset(journal_val_texts, journal_val_labels, tokenizer)\n",
        "\n",
        "# Create dataloaders\n",
        "batch_size = 16\n",
        "go_loader = DataLoader(go_dataset, batch_size=batch_size, shuffle=True, num_workers=2)\n",
        "journal_train_loader = DataLoader(journal_train_dataset, batch_size=batch_size, shuffle=True, num_workers=2)\n",
        "journal_val_loader = DataLoader(journal_val_dataset, batch_size=batch_size, shuffle=False, num_workers=2)\n",
        "\n",
        "print(f\"✅ Data prepared:\")\n",
        "print(f\"  GoEmotions: {len(go_dataset)} samples\")\n",
        "print(f\"  Journal Train: {len(journal_train_dataset)} samples\")\n",
        "print(f\"  Journal Val: {len(journal_val_dataset)} samples\")\n",
        "print(f\"  Total classes: {len(label_encoder.classes_)}\")"
      ]
    },
    {
      "cell_type": "markdown",
      "metadata": {
        "id": "aN1EUUot24hb"
      },
      "source": [
        "## 🎯 Training Pipeline"
      ]
    },
    {
      "cell_type": "code",
      "execution_count": 12,
      "metadata": {
        "colab": {
          "base_uri": "https://localhost:8080/",
          "height": 211
        },
        "id": "qpYoSOEI24hb",
        "outputId": "c078cdeb-662e-472e-ea27-4c64f76bd252"
      },
      "outputs": [
        {
          "ename": "NameError",
          "evalue": "name 'model' is not defined",
          "output_type": "error",
          "traceback": [
            "\u001b[0;31m---------------------------------------------------------------------------\u001b[0m",
            "\u001b[0;31mNameError\u001b[0m                                 Traceback (most recent call last)",
            "\u001b[0;32m/tmp/ipython-input-3603373179.py\u001b[0m in \u001b[0;36m<cell line: 0>\u001b[0;34m()\u001b[0m\n\u001b[1;32m     65\u001b[0m \u001b[0;34m\u001b[0m\u001b[0m\n\u001b[1;32m     66\u001b[0m \u001b[0;31m# Initialize trainer\u001b[0m\u001b[0;34m\u001b[0m\u001b[0;34m\u001b[0m\u001b[0m\n\u001b[0;32m---> 67\u001b[0;31m \u001b[0mtrainer\u001b[0m \u001b[0;34m=\u001b[0m \u001b[0mDomainAdaptationTrainer\u001b[0m\u001b[0;34m(\u001b[0m\u001b[0mmodel\u001b[0m\u001b[0;34m,\u001b[0m \u001b[0mtokenizer\u001b[0m\u001b[0;34m,\u001b[0m \u001b[0mdevice\u001b[0m\u001b[0;34m)\u001b[0m\u001b[0;34m\u001b[0m\u001b[0;34m\u001b[0m\u001b[0m\n\u001b[0m\u001b[1;32m     68\u001b[0m \u001b[0moptimizer\u001b[0m \u001b[0;34m=\u001b[0m \u001b[0mtorch\u001b[0m\u001b[0;34m.\u001b[0m\u001b[0moptim\u001b[0m\u001b[0;34m.\u001b[0m\u001b[0mAdamW\u001b[0m\u001b[0;34m(\u001b[0m\u001b[0mmodel\u001b[0m\u001b[0;34m.\u001b[0m\u001b[0mparameters\u001b[0m\u001b[0;34m(\u001b[0m\u001b[0;34m)\u001b[0m\u001b[0;34m,\u001b[0m \u001b[0mlr\u001b[0m\u001b[0;34m=\u001b[0m\u001b[0;36m2e-5\u001b[0m\u001b[0;34m,\u001b[0m \u001b[0mweight_decay\u001b[0m\u001b[0;34m=\u001b[0m\u001b[0;36m0.01\u001b[0m\u001b[0;34m)\u001b[0m\u001b[0;34m\u001b[0m\u001b[0;34m\u001b[0m\u001b[0m\n\u001b[1;32m     69\u001b[0m \u001b[0;34m\u001b[0m\u001b[0m\n",
            "\u001b[0;31mNameError\u001b[0m: name 'model' is not defined"
          ]
        }
      ],
      "source": [
        "from sklearn.metrics import classification_report, f1_score\n",
        "import wandb\n",
        "\n",
        "class DomainAdaptationTrainer:\n",
        "    \"\"\"Trainer for domain adaptation training.\"\"\"\n",
        "\n",
        "    def __init__(self, model, tokenizer, device):\n",
        "        self.model = model\n",
        "        self.tokenizer = tokenizer\n",
        "        self.device = device\n",
        "        self.criterion = FocalLoss(alpha=1, gamma=2)\n",
        "        self.domain_criterion = nn.CrossEntropyLoss()\n",
        "\n",
        "    def train_step(self, batch, domain_labels=None, lambda_domain=0.1):\n",
        "        \"\"\"Single training step with domain adaptation.\"\"\"\n",
        "        self.model.train()\n",
        "\n",
        "        input_ids = batch['input_ids'].to(self.device)\n",
        "        attention_mask = batch['attention_mask'].to(self.device)\n",
        "        labels = batch['labels'].to(self.device)\n",
        "\n",
        "        # Forward pass\n",
        "        emotion_logits = self.model(input_ids, attention_mask)\n",
        "\n",
        "        # Calculate losses\n",
        "        emotion_loss = self.criterion(emotion_logits, labels)\n",
        "\n",
        "        return {\n",
        "            'total_loss': emotion_loss,\n",
        "            'emotion_loss': emotion_loss,\n",
        "            'domain_loss': torch.tensor(0.0)\n",
        "        }\n",
        "\n",
        "    def evaluate(self, dataloader):\n",
        "        \"\"\"Evaluate model on validation set.\"\"\"\n",
        "        self.model.eval()\n",
        "        total_loss = 0\n",
        "        all_predictions = []\n",
        "        all_labels = []\n",
        "\n",
        "        with torch.no_grad():\n",
        "            for batch in dataloader:\n",
        "                input_ids = batch['input_ids'].to(self.device)\n",
        "                attention_mask = batch['attention_mask'].to(self.device)\n",
        "                labels = batch['labels'].to(self.device)\n",
        "\n",
        "                emotion_logits = self.model(input_ids, attention_mask)\n",
        "                loss = self.criterion(emotion_logits, labels)\n",
        "\n",
        "                total_loss += loss.item()\n",
        "                predictions = torch.argmax(emotion_logits, dim=1)\n",
        "\n",
        "                all_predictions.extend(predictions.cpu().numpy())\n",
        "                all_labels.extend(labels.cpu().numpy())\n",
        "\n",
        "        # Calculate metrics\n",
        "        f1_macro = f1_score(all_labels, all_predictions, average='macro')\n",
        "        f1_weighted = f1_score(all_labels, all_predictions, average='weighted')\n",
        "\n",
        "        return {\n",
        "            'loss': total_loss / len(dataloader),\n",
        "            'f1_macro': f1_macro,\n",
        "            'f1_weighted': f1_weighted\n",
        "        }\n",
        "\n",
        "# Initialize trainer\n",
        "trainer = DomainAdaptationTrainer(model, tokenizer, device)\n",
        "optimizer = torch.optim.AdamW(model.parameters(), lr=2e-5, weight_decay=0.01)\n",
        "\n",
        "# Initialize wandb (optional)\n",
        "try:\n",
        "    wandb.init(project=\"samo-domain-adaptation\", name=\"journal-emotion-detection\")\n",
        "    use_wandb = True\n",
        "except:\n",
        "    print(\"⚠️ Wandb not available, continuing without logging\")\n",
        "    use_wandb = False\n",
        "\n",
        "print(\"🎯 Starting domain adaptation training...\")"
      ]
    },
    {
      "cell_type": "code",
      "execution_count": 62,
      "metadata": {
        "colab": {
          "base_uri": "https://localhost:8080/",
          "height": 436
        },
        "id": "IbBVCqow24hb",
        "outputId": "0d63f2eb-1a14-40fb-bc6a-0eb04e72b01c"
      },
      "outputs": [
        {
          "name": "stdout",
          "output_type": "stream",
          "text": [
            "\n",
            "🔄 Epoch 1/5\n",
            "  📚 Training on GoEmotions data...\n"
          ]
        },
        {
          "ename": "RuntimeError",
          "evalue": "CUDA error: device-side assert triggered\nCUDA kernel errors might be asynchronously reported at some other API call, so the stacktrace below might be incorrect.\nFor debugging consider passing CUDA_LAUNCH_BLOCKING=1\nCompile with `TORCH_USE_CUDA_DSA` to enable device-side assertions.\n",
          "output_type": "error",
          "traceback": [
            "\u001b[0;31m---------------------------------------------------------------------------\u001b[0m",
            "\u001b[0;31mRuntimeError\u001b[0m                              Traceback (most recent call last)",
            "\u001b[0;32m/tmp/ipython-input-3287900490.py\u001b[0m in \u001b[0;36m<cell line: 0>\u001b[0;34m()\u001b[0m\n\u001b[1;32m     14\u001b[0m     \u001b[0mprint\u001b[0m\u001b[0;34m(\u001b[0m\u001b[0;34m\"  📚 Training on GoEmotions data...\"\u001b[0m\u001b[0;34m)\u001b[0m\u001b[0;34m\u001b[0m\u001b[0;34m\u001b[0m\u001b[0m\n\u001b[1;32m     15\u001b[0m     \u001b[0;32mfor\u001b[0m \u001b[0mi\u001b[0m\u001b[0;34m,\u001b[0m \u001b[0mbatch\u001b[0m \u001b[0;32min\u001b[0m \u001b[0menumerate\u001b[0m\u001b[0;34m(\u001b[0m\u001b[0mgo_loader\u001b[0m\u001b[0;34m)\u001b[0m\u001b[0;34m:\u001b[0m\u001b[0;34m\u001b[0m\u001b[0;34m\u001b[0m\u001b[0m\n\u001b[0;32m---> 16\u001b[0;31m         \u001b[0mlosses\u001b[0m \u001b[0;34m=\u001b[0m \u001b[0mtrainer\u001b[0m\u001b[0;34m.\u001b[0m\u001b[0mtrain_step\u001b[0m\u001b[0;34m(\u001b[0m\u001b[0mbatch\u001b[0m\u001b[0;34m)\u001b[0m\u001b[0;34m\u001b[0m\u001b[0;34m\u001b[0m\u001b[0m\n\u001b[0m\u001b[1;32m     17\u001b[0m \u001b[0;34m\u001b[0m\u001b[0m\n\u001b[1;32m     18\u001b[0m         \u001b[0moptimizer\u001b[0m\u001b[0;34m.\u001b[0m\u001b[0mzero_grad\u001b[0m\u001b[0;34m(\u001b[0m\u001b[0;34m)\u001b[0m\u001b[0;34m\u001b[0m\u001b[0;34m\u001b[0m\u001b[0m\n",
            "\u001b[0;32m/tmp/ipython-input-3603373179.py\u001b[0m in \u001b[0;36mtrain_step\u001b[0;34m(self, batch, domain_labels, lambda_domain)\u001b[0m\n\u001b[1;32m     16\u001b[0m         \u001b[0mself\u001b[0m\u001b[0;34m.\u001b[0m\u001b[0mmodel\u001b[0m\u001b[0;34m.\u001b[0m\u001b[0mtrain\u001b[0m\u001b[0;34m(\u001b[0m\u001b[0;34m)\u001b[0m\u001b[0;34m\u001b[0m\u001b[0;34m\u001b[0m\u001b[0m\n\u001b[1;32m     17\u001b[0m \u001b[0;34m\u001b[0m\u001b[0m\n\u001b[0;32m---> 18\u001b[0;31m         \u001b[0minput_ids\u001b[0m \u001b[0;34m=\u001b[0m \u001b[0mbatch\u001b[0m\u001b[0;34m[\u001b[0m\u001b[0;34m'input_ids'\u001b[0m\u001b[0;34m]\u001b[0m\u001b[0;34m.\u001b[0m\u001b[0mto\u001b[0m\u001b[0;34m(\u001b[0m\u001b[0mself\u001b[0m\u001b[0;34m.\u001b[0m\u001b[0mdevice\u001b[0m\u001b[0;34m)\u001b[0m\u001b[0;34m\u001b[0m\u001b[0;34m\u001b[0m\u001b[0m\n\u001b[0m\u001b[1;32m     19\u001b[0m         \u001b[0mattention_mask\u001b[0m \u001b[0;34m=\u001b[0m \u001b[0mbatch\u001b[0m\u001b[0;34m[\u001b[0m\u001b[0;34m'attention_mask'\u001b[0m\u001b[0;34m]\u001b[0m\u001b[0;34m.\u001b[0m\u001b[0mto\u001b[0m\u001b[0;34m(\u001b[0m\u001b[0mself\u001b[0m\u001b[0;34m.\u001b[0m\u001b[0mdevice\u001b[0m\u001b[0;34m)\u001b[0m\u001b[0;34m\u001b[0m\u001b[0;34m\u001b[0m\u001b[0m\n\u001b[1;32m     20\u001b[0m         \u001b[0mlabels\u001b[0m \u001b[0;34m=\u001b[0m \u001b[0mbatch\u001b[0m\u001b[0;34m[\u001b[0m\u001b[0;34m'labels'\u001b[0m\u001b[0;34m]\u001b[0m\u001b[0;34m.\u001b[0m\u001b[0mto\u001b[0m\u001b[0;34m(\u001b[0m\u001b[0mself\u001b[0m\u001b[0;34m.\u001b[0m\u001b[0mdevice\u001b[0m\u001b[0;34m)\u001b[0m\u001b[0;34m\u001b[0m\u001b[0;34m\u001b[0m\u001b[0m\n",
            "\u001b[0;31mRuntimeError\u001b[0m: CUDA error: device-side assert triggered\nCUDA kernel errors might be asynchronously reported at some other API call, so the stacktrace below might be incorrect.\nFor debugging consider passing CUDA_LAUNCH_BLOCKING=1\nCompile with `TORCH_USE_CUDA_DSA` to enable device-side assertions.\n"
          ]
        }
      ],
      "source": [
        "# Training loop\n",
        "num_epochs = 5\n",
        "best_f1 = 0\n",
        "training_history = []\n",
        "\n",
        "for epoch in range(num_epochs):\n",
        "    print(f\"\\n🔄 Epoch {epoch + 1}/{num_epochs}\")\n",
        "\n",
        "    # Training phase\n",
        "    model.train()\n",
        "    total_loss = 0\n",
        "\n",
        "    # Train on GoEmotions data\n",
        "    print(\"  📚 Training on GoEmotions data...\")\n",
        "    for i, batch in enumerate(go_loader):\n",
        "        losses = trainer.train_step(batch)\n",
        "\n",
        "        optimizer.zero_grad()\n",
        "        losses['total_loss'].backward()\n",
        "        optimizer.step()\n",
        "\n",
        "        total_loss += losses['total_loss'].item()\n",
        "\n",
        "        if i % 100 == 0:\n",
        "            print(f\"    Batch {i}/{len(go_loader)}, Loss: {losses['total_loss'].item():.4f}\")\n",
        "\n",
        "    # Validation\n",
        "    print(\"  🎯 Validating on journal test set...\")\n",
        "    val_results = trainer.evaluate(journal_val_loader)\n",
        "\n",
        "    avg_loss = total_loss / len(go_loader)\n",
        "\n",
        "    print(f\"  📊 Epoch {epoch + 1} Results:\")\n",
        "    print(f\"    Average Loss: {avg_loss:.4f}\")\n",
        "    print(f\"    Validation F1 (Macro): {val_results['f1_macro']:.4f}\")\n",
        "    print(f\"    Validation F1 (Weighted): {val_results['f1_weighted']:.4f}\")\n",
        "\n",
        "    # Log to wandb\n",
        "    if use_wandb:\n",
        "        wandb.log({\n",
        "            'epoch': epoch,\n",
        "            'train_loss': avg_loss,\n",
        "            'val_loss': val_results['loss'],\n",
        "            'val_f1_macro': val_results['f1_macro'],\n",
        "            'val_f1_weighted': val_results['f1_weighted']\n",
        "        })\n",
        "\n",
        "    # Save best model\n",
        "    if val_results['f1_macro'] > best_f1:\n",
        "        best_f1 = val_results['f1_macro']\n",
        "        torch.save(model.state_dict(), 'best_domain_adapted_model.pth')\n",
        "        print(f\"    💾 New best model saved! F1: {best_f1:.4f}\")\n",
        "\n",
        "    training_history.append({\n",
        "        'epoch': epoch,\n",
        "        'train_loss': avg_loss,\n",
        "        'val_f1_macro': val_results['f1_macro'],\n",
        "        'val_f1_weighted': val_results['f1_weighted']\n",
        "    })\n",
        "\n",
        "    # Clear GPU cache\n",
        "    if torch.cuda.is_available():\n",
        "        torch.cuda.empty_cache()\n",
        "\n",
        "print(f\"\\n🎉 Training completed! Best F1 Score: {best_f1:.4f}\")"
      ]
    },
    {
      "cell_type": "markdown",
      "metadata": {
        "id": "Gald13aL24hb"
      },
      "source": [
        "## 📈 Results Analysis & Visualization"
      ]
    },
    {
      "cell_type": "code",
      "execution_count": null,
      "metadata": {
        "id": "eTuKJQw024hb"
      },
      "outputs": [],
      "source": [
        "# Plot training history\n",
        "history_df = pd.DataFrame(training_history)\n",
        "\n",
        "fig, axes = plt.subplots(1, 2, figsize=(15, 5))\n",
        "\n",
        "# Loss plot\n",
        "axes[0].plot(history_df['epoch'], history_df['train_loss'], 'b-', label='Training Loss')\n",
        "axes[0].set_title('Training Loss Over Time')\n",
        "axes[0].set_xlabel('Epoch')\n",
        "axes[0].set_ylabel('Loss')\n",
        "axes[0].legend()\n",
        "axes[0].grid(True)\n",
        "\n",
        "# F1 Score plot\n",
        "axes[1].plot(history_df['epoch'], history_df['val_f1_macro'], 'r-', label='F1 Macro')\n",
        "axes[1].plot(history_df['epoch'], history_df['val_f1_weighted'], 'g-', label='F1 Weighted')\n",
        "axes[1].axhline(y=0.7, color='orange', linestyle='--', label='Target (70%)')\n",
        "axes[1].set_title('Validation F1 Score Over Time')\n",
        "axes[1].set_xlabel('Epoch')\n",
        "axes[1].set_ylabel('F1 Score')\n",
        "axes[1].legend()\n",
        "axes[1].grid(True)\n",
        "\n",
        "plt.tight_layout()\n",
        "plt.show()\n",
        "\n",
        "# Final evaluation\n",
        "print(\"\\n🎯 Final Model Evaluation:\")\n",
        "model.load_state_dict(torch.load('best_domain_adapted_model.pth'))\n",
        "final_results = trainer.evaluate(journal_val_loader)\n",
        "\n",
        "print(f\"📊 Final Results:\")\n",
        "print(f\"  F1 Score (Macro): {final_results['f1_macro']:.4f}\")\n",
        "print(f\"  F1 Score (Weighted): {final_results['f1_weighted']:.4f}\")\n",
        "print(f\"  Target Met (70%): {'✅' if final_results['f1_macro'] >= 0.7 else '❌'}\")\n",
        "\n",
        "# REQ-DL-012 Validation\n",
        "print(f\"\\n🎯 REQ-DL-012 Validation:\")\n",
        "print(f\"  Target: 70% F1 score on journal entries\")\n",
        "print(f\"  Achieved: {final_results['f1_macro']:.1%} F1 score\")\n",
        "print(f\"  Status: {'✅ SUCCESS' if final_results['f1_macro'] >= 0.7 else '❌ NEEDS IMPROVEMENT'}\")"
      ]
    },
    {
      "cell_type": "markdown",
      "metadata": {
        "id": "EoBAaaSt24hb"
      },
      "source": [
        "## 💾 Model Export & Deployment"
      ]
    },
    {
      "cell_type": "code",
      "execution_count": null,
      "metadata": {
        "id": "s1jMj0P224hb"
      },
      "outputs": [],
      "source": [
        "# Save model artifacts\n",
        "import pickle\n",
        "\n",
        "# Save label encoder\n",
        "with open('label_encoder.pkl', 'wb') as f:\n",
        "    pickle.dump(label_encoder, f)\n",
        "\n",
        "# Save tokenizer\n",
        "tokenizer.save_pretrained('./domain_adapted_model')\n",
        "\n",
        "# Save model config\n",
        "model_config = {\n",
        "    'model_name': model_name,\n",
        "    'num_labels': 12,\n",
        "    'max_length': 128,\n",
        "    'label_encoder_path': 'label_encoder.pkl',\n",
        "    'model_path': 'best_domain_adapted_model.pth'\n",
        "}\n",
        "\n",
        "with open('model_config.json', 'w') as f:\n",
        "    json.dump(model_config, f, indent=2)\n",
        "\n",
        "print(\"💾 Model artifacts saved:\")\n",
        "print(\"  - best_domain_adapted_model.pth (model weights)\")\n",
        "print(\"  - label_encoder.pkl (label encoder)\")\n",
        "print(\"  - domain_adapted_model/ (tokenizer)\")\n",
        "print(\"  - model_config.json (configuration)\")\n",
        "\n",
        "# Download files (for Colab)\n",
        "from google.colab import files\n",
        "files.download('best_domain_adapted_model.pth')\n",
        "files.download('label_encoder.pkl')\n",
        "files.download('model_config.json')\n",
        "\n",
        "print(\"\\n🚀 Model ready for deployment!\")\n",
        "print(\"📋 Next steps:\")\n",
        "print(\"  1. Integrate model into SAMO-DL pipeline\")\n",
        "print(\"  2. Update emotion detection API\")\n",
        "print(\"  3. Deploy to production environment\")\n",
        "print(\"  4. Update PRD with achieved metrics\")"
      ]
    },
    {
      "cell_type": "code",
      "execution_count": null,
      "metadata": {
        "id": "12857821"
      },
      "outputs": [],
      "source": [
        "!ls -lR SAMO--DL"
      ]
    },
    {
      "cell_type": "markdown",
      "metadata": {
        "id": "267ee8c5"
      },
      "source": [
        "## 🔍 Domain Gap Analysis"
      ]
    },
    {
      "cell_type": "markdown",
      "metadata": {
        "id": "6fed0c2e"
      },
      "source": [
        "## 🏗️ Model Architecture"
      ]
    }
  ],
  "metadata": {
    "accelerator": "GPU",
    "colab": {
      "gpuType": "T4",
      "history_visible": true,
      "include_colab_link": true,
      "provenance": []
    },
    "kernelspec": {
      "display_name": "Python 3",
      "name": "python3"
    },
    "language_info": {
      "codemirror_mode": {
        "name": "ipython",
        "version": 3
      },
      "file_extension": ".py",
      "mimetype": "text/x-python",
      "name": "python",
      "nbconvert_exporter": "python",
      "pygments_lexer": "ipython3",
      "version": "3.8.5"
    }
  },
  "nbformat": 4,
  "nbformat_minor": 0
}
